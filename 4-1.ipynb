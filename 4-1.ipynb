{
 "cells": [
  {
   "cell_type": "markdown",
   "metadata": {},
   "source": [
    "## 4-1 我的第一個神經網路"
   ]
  },
  {
   "cell_type": "markdown",
   "metadata": {},
   "source": [
    "修改一下上課的範例, 訓練你第一號神經網路, 做手寫辨識。    \n",
    "比如更換不同層數、每層不同神經元數、用不同的 activation function 等等。"
   ]
  },
  {
   "cell_type": "code",
   "execution_count": 1,
   "metadata": {
    "collapsed": true
   },
   "outputs": [],
   "source": [
    "%matplotlib inline\n",
    "import numpy as np\n",
    "import matplotlib.pyplot as plt\n",
    "from keras.datasets import mnist"
   ]
  },
  {
   "cell_type": "code",
   "execution_count": 2,
   "metadata": {
    "collapsed": true
   },
   "outputs": [],
   "source": [
    "from keras.utils import np_utils"
   ]
  },
  {
   "cell_type": "code",
   "execution_count": 3,
   "metadata": {
    "collapsed": true
   },
   "outputs": [],
   "source": [
    "(x0_train, y0_train), (x0_test, y0_test) = mnist.load_data()"
   ]
  },
  {
   "cell_type": "code",
   "execution_count": 4,
   "metadata": {
    "collapsed": false
   },
   "outputs": [
    {
     "name": "stdout",
     "output_type": "stream",
     "text": [
      "訓練資料筆數: 60000\n",
      "測試資料筆數: 10000\n"
     ]
    }
   ],
   "source": [
    "print(\"訓練資料筆數:\", len(x0_train))\n",
    "print(\"測試資料筆數:\", len(x0_test))"
   ]
  },
  {
   "cell_type": "code",
   "execution_count": 5,
   "metadata": {
    "collapsed": true
   },
   "outputs": [],
   "source": [
    "from ipywidgets import interact"
   ]
  },
  {
   "cell_type": "code",
   "execution_count": 8,
   "metadata": {
    "collapsed": true
   },
   "outputs": [],
   "source": [
    "def show(ind):\n",
    "    print(\"數字: \", y0_train[ind])\n",
    "    #fig, ax = plt.subplots()\n",
    "    #ax.set_axis_off()\n",
    "    plt.imshow(x0_train[ind], cmap='Greys')"
   ]
  },
  {
   "cell_type": "code",
   "execution_count": 9,
   "metadata": {
    "collapsed": false
   },
   "outputs": [
    {
     "name": "stdout",
     "output_type": "stream",
     "text": [
      "數字:  9\n"
     ]
    },
    {
     "data": {
      "image/png": "[encoded data removed]",
      "text/plain": [
       "<matplotlib.figure.Figure at 0x2bf1417a860>"
      ]
     },
     "metadata": {},
     "output_type": "display_data"
    }
   ],
   "source": [
    "interact(show, ind=(0, 59999))"
   ]
  },
  {
   "cell_type": "code",
   "execution_count": 12,
   "metadata": {
    "collapsed": false
   },
   "outputs": [],
   "source": [
    "x_train = x0_train.reshape(60000, 28*28)\n",
    "x_test = x0_test.reshape(10000,28*28)   \n",
    "#將矩陣拉平為向量"
   ]
  },
  {
   "cell_type": "code",
   "execution_count": 13,
   "metadata": {
    "collapsed": true
   },
   "outputs": [],
   "source": [
    "y_train = np_utils.to_categorical(y0_train, 10)\n",
    "y_test = np_utils.to_categorical(y0_test, 10)   \n",
    "#將輸出資料格式改變為向量"
   ]
  },
  {
   "cell_type": "markdown",
   "metadata": {},
   "source": [
    "我的第一個神經網路來了！"
   ]
  },
  {
   "cell_type": "code",
   "execution_count": 14,
   "metadata": {
    "collapsed": true
   },
   "outputs": [],
   "source": [
    "from keras.models import Sequential\n",
    "from keras.layers import Dense, Activation #Dense表示Fully connected\n",
    "from keras.optimizers import SGD #?"
   ]
  },
  {
   "cell_type": "code",
   "execution_count": 15,
   "metadata": {
    "collapsed": true
   },
   "outputs": [],
   "source": [
    "model = Sequential() #空的神經網路建模"
   ]
  },
  {
   "cell_type": "code",
   "execution_count": 16,
   "metadata": {
    "collapsed": true
   },
   "outputs": [],
   "source": [
    "model.add(Dense(units=520, input_dim=28*28))\n",
    "model.add(Activation('sigmoid')) #第一層"
   ]
  },
  {
   "cell_type": "code",
   "execution_count": 17,
   "metadata": {
    "collapsed": true
   },
   "outputs": [],
   "source": [
    "model.add(Dense(units=520, input_dim=784))\n",
    "model.add(Activation('sigmoid')) #第二層"
   ]
  },
  {
   "cell_type": "code",
   "execution_count": 18,
   "metadata": {
    "collapsed": true
   },
   "outputs": [],
   "source": [
    "model.add(Dense(units=520, input_dim=784))\n",
    "model.add(Activation('hard_sigmoid')) #第三層"
   ]
  },
  {
   "cell_type": "code",
   "execution_count": 19,
   "metadata": {
    "collapsed": true
   },
   "outputs": [],
   "source": [
    "model.add(Dense(units=10))\n",
    "model.add(Activation('softmax')) #輸出層"
   ]
  },
  {
   "cell_type": "code",
   "execution_count": 20,
   "metadata": {
    "collapsed": true
   },
   "outputs": [],
   "source": [
    "model.compile(loss='mse', optimizer=SGD(lr=0.1), metrics=['accuracy'])"
   ]
  },
  {
   "cell_type": "code",
   "execution_count": 21,
   "metadata": {
    "collapsed": false
   },
   "outputs": [
    {
     "name": "stdout",
     "output_type": "stream",
     "text": [
      "Epoch 1/13\n",
      "60000/60000 [==============================] - 30s - loss: 0.0900 - acc: 0.1285    \n",
      "Epoch 2/13\n",
      "60000/60000 [==============================] - 28s - loss: 0.0890 - acc: 0.1631    \n",
      "Epoch 3/13\n",
      "60000/60000 [==============================] - 28s - loss: 0.0883 - acc: 0.1939    \n",
      "Epoch 4/13\n",
      "60000/60000 [==============================] - 30s - loss: 0.0873 - acc: 0.2396    \n",
      "Epoch 5/13\n",
      "60000/60000 [==============================] - 34s - loss: 0.0858 - acc: 0.2767    \n",
      "Epoch 6/13\n",
      "60000/60000 [==============================] - 31s - loss: 0.0834 - acc: 0.3069    \n",
      "Epoch 7/13\n",
      "60000/60000 [==============================] - 27s - loss: 0.0800 - acc: 0.3533    \n",
      "Epoch 8/13\n",
      "60000/60000 [==============================] - 28s - loss: 0.0765 - acc: 0.4071    \n",
      "Epoch 9/13\n",
      "60000/60000 [==============================] - 28s - loss: 0.0730 - acc: 0.4553    \n",
      "Epoch 10/13\n",
      "60000/60000 [==============================] - 29s - loss: 0.0687 - acc: 0.5096    \n",
      "Epoch 11/13\n",
      "60000/60000 [==============================] - 29s - loss: 0.0636 - acc: 0.5594    \n",
      "Epoch 12/13\n",
      "60000/60000 [==============================] - 29s - loss: 0.0580 - acc: 0.5963    \n",
      "Epoch 13/13\n",
      "60000/60000 [==============================] - 29s - loss: 0.0523 - acc: 0.6462    \n"
     ]
    },
    {
     "data": {
      "text/plain": [
       "<keras.callbacks.History at 0x2bf14012cf8>"
      ]
     },
     "execution_count": 21,
     "metadata": {},
     "output_type": "execute_result"
    }
   ],
   "source": [
    "model.fit(x_train, y_train, batch_size=100, epochs=13)  #batch_size?"
   ]
  },
  {
   "cell_type": "code",
   "execution_count": 22,
   "metadata": {
    "collapsed": true
   },
   "outputs": [],
   "source": [
    "from ipywidgets import interact_manual"
   ]
  },
  {
   "cell_type": "code",
   "execution_count": 23,
   "metadata": {
    "collapsed": false
   },
   "outputs": [
    {
     "name": "stdout",
     "output_type": "stream",
     "text": [
      " 9920/10000 [============================>.] - ETA: 0s"
     ]
    }
   ],
   "source": [
    "result = model.predict_classes(x_test)"
   ]
  },
  {
   "cell_type": "code",
   "execution_count": 24,
   "metadata": {
    "collapsed": true
   },
   "outputs": [],
   "source": [
    "def 辨識(測試編號):\n",
    "    plt.imshow(x0_test[測試編號], cmap=\"Greys\")\n",
    "    print(\"神經網路判斷為: \", result[測試編號])"
   ]
  },
  {
   "cell_type": "code",
   "execution_count": 25,
   "metadata": {
    "collapsed": false
   },
   "outputs": [
    {
     "name": "stdout",
     "output_type": "stream",
     "text": [
      "神經網路判斷為:  4\n"
     ]
    },
    {
     "data": {
      "image/png": "[encoded data removed]",
      "text/plain": [
       "<matplotlib.figure.Figure at 0x2bf13fb3860>"
      ]
     },
     "metadata": {},
     "output_type": "display_data"
    }
   ],
   "source": [
    "interact_manual(辨識, 測試編號=(0, 9999))"
   ]
  },
  {
   "cell_type": "code",
   "execution_count": 26,
   "metadata": {
    "collapsed": true
   },
   "outputs": [],
   "source": [
    "model_json = model.to_json()\n",
    "open('handwriting_model_architecture.json', 'w').write(model_json)\n",
    "model.save_weights('handwriting_model_weights.h5')"
   ]
  }
 ],
 "metadata": {
  "anaconda-cloud": {},
  "kernelspec": {
   "display_name": "Python [conda root]",
   "language": "python",
   "name": "conda-root-py"
  },
  "language_info": {
   "codemirror_mode": {
    "name": "ipython",
    "version": 3
   },
   "file_extension": ".py",
   "mimetype": "text/x-python",
   "name": "python",
   "nbconvert_exporter": "python",
   "pygments_lexer": "ipython3",
   "version": "3.5.2"
  },
  "widgets": {
   "state": {
    "12313f2540634589a2bbcc48a87dffca": {
     "views": [
      {
       "cell_index": 8
      }
     ]
    },
    "3d46ff01c0ee48a9bfb5545f9f38ade6": {
     "views": [
      {
       "cell_index": 23
      }
     ]
    }
   },
   "version": "1.2.0"
  }
 },
 "nbformat": 4,
 "nbformat_minor": 1
}
